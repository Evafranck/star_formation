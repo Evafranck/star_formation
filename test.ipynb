{
 "cells": [
  {
   "cell_type": "code",
   "execution_count": 1,
   "metadata": {},
   "outputs": [],
   "source": [
    "import pynbody"
   ]
  },
  {
   "cell_type": "code",
   "execution_count": 2,
   "metadata": {},
   "outputs": [],
   "source": [
    "s = pynbody.load('../Documents/Bachelorthesis/simulations/g8.26/g8.26e11.01024')"
   ]
  },
  {
   "cell_type": "code",
   "execution_count": 3,
   "metadata": {},
   "outputs": [
    {
     "data": {
      "text/plain": [
       "SimArray([3.26577465e-05, 1.99435002e-04, 4.98126552e-04, ...,\n",
       "          4.98503097e-04, 2.09211430e-04, 1.20979945e-04], '1.25e+02 Msol kpc**-3 a**-3')"
      ]
     },
     "execution_count": 3,
     "metadata": {},
     "output_type": "execute_result"
    }
   ],
   "source": [
    "s.g['rho']"
   ]
  },
  {
   "cell_type": "code",
   "execution_count": 4,
   "metadata": {},
   "outputs": [],
   "source": [
    "@pynbody.snapshot.SimSnap.stable_derived_quantity\n",
    "def vel_div(self):\n",
    "    import logging\n",
    "    logger = logging.getLogger('pynbody.sph')\n",
    "\n",
    "    pynbody.sph.build_tree(self)\n",
    "\n",
    "    logger.info('Calculating velocity divergence')\n",
    "    \n",
    "    vel_div = self.kdtree.sph_divergence(self['vel'], nsmooth=pynbody.config['sph']['smooth-particles'])\n",
    "\n",
    "\n",
    "    return vel_div"
   ]
  },
  {
   "cell_type": "code",
   "execution_count": 6,
   "metadata": {},
   "outputs": [
    {
     "data": {
      "text/plain": [
       "SimArray([[-0.02025904,  0.05018276,  0.06382994],\n",
       "          [-0.23443702,  0.04894251,  0.09324799],\n",
       "          [-0.203205  ,  0.01664866,  0.1534857 ],\n",
       "          ...,\n",
       "          [-0.31349898, -0.32451677,  0.12411123],\n",
       "          [ 0.06131436,  0.04283339,  0.04298168],\n",
       "          [-0.17452651, -0.11418   , -0.64227404]], '2.32e-02 km s**-1 kpc**-1')"
      ]
     },
     "execution_count": 6,
     "metadata": {},
     "output_type": "execute_result"
    }
   ],
   "source": [
    "s.g['v_curl']"
   ]
  },
  {
   "cell_type": "code",
   "execution_count": 5,
   "metadata": {},
   "outputs": [
    {
     "ename": "ValueError",
     "evalue": "Unspecified array in kdtree",
     "output_type": "error",
     "traceback": [
      "\u001b[0;31m---------------------------------------------------------------------------\u001b[0m",
      "\u001b[0;31mValueError\u001b[0m                                Traceback (most recent call last)",
      "\u001b[1;32m/home/eva/star_formation/test.ipynb Zelle 6\u001b[0m in \u001b[0;36m<cell line: 1>\u001b[0;34m()\u001b[0m\n\u001b[0;32m----> <a href='vscode-notebook-cell://wsl%2Bubuntu-20.04/home/eva/star_formation/test.ipynb#W5sdnNjb2RlLXJlbW90ZQ%3D%3D?line=0'>1</a>\u001b[0m s\u001b[39m.\u001b[39;49mg[\u001b[39m'\u001b[39;49m\u001b[39mvel_div\u001b[39;49m\u001b[39m'\u001b[39;49m]\n",
      "File \u001b[0;32m~/.local/lib/python3.8/site-packages/pynbody/snapshot/__init__.py:258\u001b[0m, in \u001b[0;36mSimSnap.__getitem__\u001b[0;34m(self, i)\u001b[0m\n\u001b[1;32m    254\u001b[0m \u001b[39m\"\"\"Return either a specific array or a subview of this simulation. See\u001b[39;00m\n\u001b[1;32m    255\u001b[0m \u001b[39mthe class documentation (:class:`SimSnap`) for more information.\"\"\"\u001b[39;00m\n\u001b[1;32m    257\u001b[0m \u001b[39mif\u001b[39;00m \u001b[39misinstance\u001b[39m(i, \u001b[39mstr\u001b[39m):\n\u001b[0;32m--> 258\u001b[0m     \u001b[39mreturn\u001b[39;00m \u001b[39mself\u001b[39;49m\u001b[39m.\u001b[39;49m_get_array_with_lazy_actions(i)\n\u001b[1;32m    259\u001b[0m \u001b[39melif\u001b[39;00m \u001b[39misinstance\u001b[39m(i, \u001b[39mslice\u001b[39m):\n\u001b[1;32m    260\u001b[0m     \u001b[39mreturn\u001b[39;00m SubSnap(\u001b[39mself\u001b[39m, i)\n",
      "File \u001b[0;32m~/.local/lib/python3.8/site-packages/pynbody/snapshot/__init__.py:358\u001b[0m, in \u001b[0;36mSimSnap._get_array_with_lazy_actions\u001b[0;34m(self, name)\u001b[0m\n\u001b[1;32m    356\u001b[0m         \u001b[39mself\u001b[39m\u001b[39m.\u001b[39m__load_if_required(name)\n\u001b[1;32m    357\u001b[0m     \u001b[39mif\u001b[39;00m \u001b[39mnot\u001b[39;00m \u001b[39mself\u001b[39m\u001b[39m.\u001b[39mlazy_derive_off:\n\u001b[0;32m--> 358\u001b[0m         \u001b[39mself\u001b[39;49m\u001b[39m.\u001b[39;49m__derive_if_required(name)\n\u001b[1;32m    360\u001b[0m \u001b[39mreturn\u001b[39;00m \u001b[39mself\u001b[39m\u001b[39m.\u001b[39m_get_array(name)\n",
      "File \u001b[0;32m~/.local/lib/python3.8/site-packages/pynbody/snapshot/__init__.py:373\u001b[0m, in \u001b[0;36mSimSnap.__derive_if_required\u001b[0;34m(self, name)\u001b[0m\n\u001b[1;32m    371\u001b[0m \u001b[39mdef\u001b[39;00m \u001b[39m__derive_if_required\u001b[39m(\u001b[39mself\u001b[39m, name):\n\u001b[1;32m    372\u001b[0m     \u001b[39mif\u001b[39;00m name \u001b[39mnot\u001b[39;00m \u001b[39min\u001b[39;00m \u001b[39mlist\u001b[39m(\u001b[39mself\u001b[39m\u001b[39m.\u001b[39mkeys()):\n\u001b[0;32m--> 373\u001b[0m         \u001b[39mself\u001b[39;49m\u001b[39m.\u001b[39;49m_derive_array(name)\n",
      "File \u001b[0;32m~/.local/lib/python3.8/site-packages/pynbody/snapshot/__init__.py:1948\u001b[0m, in \u001b[0;36mFamilySubSnap._derive_array\u001b[0;34m(self, array_name, fam)\u001b[0m\n\u001b[1;32m   1946\u001b[0m \u001b[39mdef\u001b[39;00m \u001b[39m_derive_array\u001b[39m(\u001b[39mself\u001b[39m, array_name, fam\u001b[39m=\u001b[39m\u001b[39mNone\u001b[39;00m):\n\u001b[1;32m   1947\u001b[0m     \u001b[39mif\u001b[39;00m fam \u001b[39mis\u001b[39;00m \u001b[39mself\u001b[39m\u001b[39m.\u001b[39m_unifamily \u001b[39mor\u001b[39;00m fam \u001b[39mis\u001b[39;00m \u001b[39mNone\u001b[39;00m:\n\u001b[0;32m-> 1948\u001b[0m         \u001b[39mself\u001b[39;49m\u001b[39m.\u001b[39;49mbase\u001b[39m.\u001b[39;49m_derive_array(array_name, \u001b[39mself\u001b[39;49m\u001b[39m.\u001b[39;49m_unifamily)\n",
      "File \u001b[0;32m~/.local/lib/python3.8/site-packages/pynbody/snapshot/__init__.py:1433\u001b[0m, in \u001b[0;36mSimSnap._derive_array\u001b[0;34m(self, name, fam)\u001b[0m\n\u001b[1;32m   1430\u001b[0m     write_array \u001b[39m=\u001b[39m \u001b[39mself\u001b[39m\u001b[39m.\u001b[39m_get_array(\n\u001b[1;32m   1431\u001b[0m         name, always_writable\u001b[39m=\u001b[39m\u001b[39mTrue\u001b[39;00m)\n\u001b[1;32m   1432\u001b[0m \u001b[39melse\u001b[39;00m:\n\u001b[0;32m-> 1433\u001b[0m     result \u001b[39m=\u001b[39m fn(\u001b[39mself\u001b[39;49m[fam])\n\u001b[1;32m   1434\u001b[0m     ndim \u001b[39m=\u001b[39m result\u001b[39m.\u001b[39mshape[\u001b[39m-\u001b[39m\u001b[39m1\u001b[39m] \u001b[39mif\u001b[39;00m \u001b[39mlen\u001b[39m(\n\u001b[1;32m   1435\u001b[0m         result\u001b[39m.\u001b[39mshape) \u001b[39m>\u001b[39m \u001b[39m1\u001b[39m \u001b[39melse\u001b[39;00m \u001b[39m1\u001b[39m\n\u001b[1;32m   1437\u001b[0m     \u001b[39m# check if a family array already exists with a different dtype\u001b[39;00m\n\u001b[1;32m   1438\u001b[0m     \u001b[39m# if so, cast the result to the existing dtype\u001b[39;00m\n\u001b[1;32m   1439\u001b[0m     \u001b[39m# numpy version < 1.7 does not support doing this in-place\u001b[39;00m\n",
      "\u001b[1;32m/home/eva/star_formation/test.ipynb Zelle 6\u001b[0m in \u001b[0;36mvel_div\u001b[0;34m(self)\u001b[0m\n\u001b[1;32m      <a href='vscode-notebook-cell://wsl%2Bubuntu-20.04/home/eva/star_formation/test.ipynb#W5sdnNjb2RlLXJlbW90ZQ%3D%3D?line=5'>6</a>\u001b[0m pynbody\u001b[39m.\u001b[39msph\u001b[39m.\u001b[39mbuild_tree(\u001b[39mself\u001b[39m)\n\u001b[1;32m      <a href='vscode-notebook-cell://wsl%2Bubuntu-20.04/home/eva/star_formation/test.ipynb#W5sdnNjb2RlLXJlbW90ZQ%3D%3D?line=7'>8</a>\u001b[0m logger\u001b[39m.\u001b[39minfo(\u001b[39m'\u001b[39m\u001b[39mCalculating velocity divergence\u001b[39m\u001b[39m'\u001b[39m)\n\u001b[0;32m---> <a href='vscode-notebook-cell://wsl%2Bubuntu-20.04/home/eva/star_formation/test.ipynb#W5sdnNjb2RlLXJlbW90ZQ%3D%3D?line=9'>10</a>\u001b[0m vel_div \u001b[39m=\u001b[39m \u001b[39mself\u001b[39;49m\u001b[39m.\u001b[39;49mkdtree\u001b[39m.\u001b[39;49msph_divergence(\u001b[39mself\u001b[39;49m[\u001b[39m'\u001b[39;49m\u001b[39mvel\u001b[39;49m\u001b[39m'\u001b[39;49m], nsmooth\u001b[39m=\u001b[39;49mpynbody\u001b[39m.\u001b[39;49mconfig[\u001b[39m'\u001b[39;49m\u001b[39msph\u001b[39;49m\u001b[39m'\u001b[39;49m][\u001b[39m'\u001b[39;49m\u001b[39msmooth-particles\u001b[39;49m\u001b[39m'\u001b[39;49m])\n\u001b[1;32m     <a href='vscode-notebook-cell://wsl%2Bubuntu-20.04/home/eva/star_formation/test.ipynb#W5sdnNjb2RlLXJlbW90ZQ%3D%3D?line=12'>13</a>\u001b[0m \u001b[39mreturn\u001b[39;00m vel_div\n",
      "File \u001b[0;32m~/.local/lib/python3.8/site-packages/pynbody/sph/kdtree.py:319\u001b[0m, in \u001b[0;36mKDTree.sph_divergence\u001b[0;34m(self, array, nsmooth)\u001b[0m\n\u001b[1;32m    318\u001b[0m \u001b[39mdef\u001b[39;00m \u001b[39msph_divergence\u001b[39m(\u001b[39mself\u001b[39m, array, nsmooth\u001b[39m=\u001b[39m\u001b[39m64\u001b[39m):\n\u001b[0;32m--> 319\u001b[0m     \u001b[39mreturn\u001b[39;00m \u001b[39mself\u001b[39;49m\u001b[39m.\u001b[39;49m_sph_differential_operator(array, \u001b[39m\"\u001b[39;49m\u001b[39mdiv\u001b[39;49m\u001b[39m\"\u001b[39;49m, nsmooth)\n",
      "File \u001b[0;32m~/.local/lib/python3.8/site-packages/pynbody/sph/kdtree.py:308\u001b[0m, in \u001b[0;36mKDTree._sph_differential_operator\u001b[0;34m(self, array, op, nsmooth)\u001b[0m\n\u001b[1;32m    306\u001b[0m logger\u001b[39m.\u001b[39minfo(\u001b[39m\"\u001b[39m\u001b[39mGetting \u001b[39m\u001b[39m%s\u001b[39;00m\u001b[39m of array with \u001b[39m\u001b[39m%d\u001b[39;00m\u001b[39m nearest neighbours\u001b[39m\u001b[39m\"\u001b[39m \u001b[39m%\u001b[39m (op_label, nsmooth))\n\u001b[1;32m    307\u001b[0m start \u001b[39m=\u001b[39m time\u001b[39m.\u001b[39mtime()\n\u001b[0;32m--> 308\u001b[0m \u001b[39mself\u001b[39;49m\u001b[39m.\u001b[39;49mpopulate(\u001b[39m\"\u001b[39;49m\u001b[39mqty_\u001b[39;49m\u001b[39m%s\u001b[39;49;00m\u001b[39m\"\u001b[39;49m \u001b[39m%\u001b[39;49m op, nsmooth)\n\u001b[1;32m    309\u001b[0m end \u001b[39m=\u001b[39m time\u001b[39m.\u001b[39mtime()\n\u001b[1;32m    311\u001b[0m logger\u001b[39m.\u001b[39minfo(\u001b[39mf\u001b[39m\u001b[39m\"\u001b[39m\u001b[39mSPH \u001b[39m\u001b[39m{\u001b[39;00mop_label\u001b[39m}\u001b[39;00m\u001b[39m done in \u001b[39m\u001b[39m{\u001b[39;00mend \u001b[39m-\u001b[39m start\u001b[39m:\u001b[39;00m\u001b[39m5.3g\u001b[39m\u001b[39m}\u001b[39;00m\u001b[39m s\u001b[39m\u001b[39m\"\u001b[39m)\n",
      "File \u001b[0;32m~/.local/lib/python3.8/site-packages/pynbody/sph/kdtree.py:194\u001b[0m, in \u001b[0;36mKDTree.populate\u001b[0;34m(self, mode, nn)\u001b[0m\n\u001b[1;32m    192\u001b[0m     kdmain\u001b[39m.\u001b[39mpopulate(\u001b[39mself\u001b[39m\u001b[39m.\u001b[39mkdtree, smx, propid, \u001b[39m0\u001b[39m)\n\u001b[1;32m    193\u001b[0m \u001b[39melse\u001b[39;00m:\n\u001b[0;32m--> 194\u001b[0m     _thread_map(\n\u001b[1;32m    195\u001b[0m         kdmain\u001b[39m.\u001b[39;49mpopulate,\n\u001b[1;32m    196\u001b[0m         [\u001b[39mself\u001b[39;49m\u001b[39m.\u001b[39;49mkdtree] \u001b[39m*\u001b[39;49m n_proc,\n\u001b[1;32m    197\u001b[0m         [smx] \u001b[39m*\u001b[39;49m n_proc,\n\u001b[1;32m    198\u001b[0m         [propid] \u001b[39m*\u001b[39;49m n_proc,\n\u001b[1;32m    199\u001b[0m         \u001b[39mlist\u001b[39;49m(\u001b[39mrange\u001b[39;49m(\u001b[39m0\u001b[39;49m, n_proc)),\n\u001b[1;32m    200\u001b[0m     )\n\u001b[1;32m    202\u001b[0m \u001b[39m# Free C-structures memory\u001b[39;00m\n\u001b[1;32m    203\u001b[0m kdmain\u001b[39m.\u001b[39mnn_stop(\u001b[39mself\u001b[39m\u001b[39m.\u001b[39mkdtree, smx)\n",
      "File \u001b[0;32m~/.local/lib/python3.8/site-packages/pynbody/sph/__init__.py:69\u001b[0m, in \u001b[0;36m_thread_map\u001b[0;34m(func, *args)\u001b[0m\n\u001b[1;32m     66\u001b[0m \u001b[39mif\u001b[39;00m \u001b[39mlen\u001b[39m(exceptions)\u001b[39m>\u001b[39m\u001b[39m0\u001b[39m:\n\u001b[1;32m     67\u001b[0m     \u001b[39m# Here we re-raise the exception that was actually generated in a thread\u001b[39;00m\n\u001b[1;32m     68\u001b[0m     t,obj,trace\u001b[39m=\u001b[39m exceptions[\u001b[39m0\u001b[39m]\n\u001b[0;32m---> 69\u001b[0m     \u001b[39mraise\u001b[39;00m t(obj)\u001b[39m.\u001b[39mwith_traceback(trace)\n",
      "File \u001b[0;32m~/.local/lib/python3.8/site-packages/pynbody/sph/__init__.py:49\u001b[0m, in \u001b[0;36m_exception_catcher\u001b[0;34m(call_fn, exception_list, *args)\u001b[0m\n\u001b[1;32m     47\u001b[0m \u001b[39mdef\u001b[39;00m \u001b[39m_exception_catcher\u001b[39m(call_fn, exception_list, \u001b[39m*\u001b[39margs):\n\u001b[1;32m     48\u001b[0m     \u001b[39mtry\u001b[39;00m:\n\u001b[0;32m---> 49\u001b[0m         call_fn(\u001b[39m*\u001b[39;49margs)\n\u001b[1;32m     50\u001b[0m     \u001b[39mexcept\u001b[39;00m \u001b[39mException\u001b[39;00m \u001b[39mas\u001b[39;00m e:\n\u001b[1;32m     51\u001b[0m         exception_list\u001b[39m.\u001b[39mappend(sys\u001b[39m.\u001b[39mexc_info())\n",
      "\u001b[0;31mValueError\u001b[0m: Unspecified array in kdtree"
     ]
    }
   ],
   "source": [
    "s.g['vel_div']"
   ]
  },
  {
   "cell_type": "code",
   "execution_count": 13,
   "metadata": {},
   "outputs": [
    {
     "data": {
      "text/plain": [
       "SimArray([6.4126713 , 2.73971714, 3.41075285, ..., 3.94211364, 9.81368636,\n",
       "          9.19990928], 'Msol kpc**-3')"
      ]
     },
     "execution_count": 13,
     "metadata": {},
     "output_type": "execute_result"
    }
   ],
   "source": [
    "s.g['rho']"
   ]
  },
  {
   "cell_type": "code",
   "execution_count": 14,
   "metadata": {},
   "outputs": [
    {
     "data": {
      "text/plain": [
       "SimArray([ 0.01635779,  0.03201818,  0.01791812, ...,  0.01624829,\n",
       "          -0.00757006,  0.00557673], 'km kpc**-1 s**-1')"
      ]
     },
     "execution_count": 14,
     "metadata": {},
     "output_type": "execute_result"
    }
   ],
   "source": [
    "s.g['vel_div']"
   ]
  },
  {
   "cell_type": "code",
   "execution_count": 15,
   "metadata": {},
   "outputs": [
    {
     "data": {
      "text/plain": [
       "SimArray([2.42333954e+09, 1.62752922e+09, 7.44166535e+08, ...,\n",
       "          4.21589771e+09, 8.12413727e+09, 1.43599497e+09], 'Msol kpc**-3')"
      ]
     },
     "execution_count": 15,
     "metadata": {},
     "output_type": "execute_result"
    }
   ],
   "source": [
    "s.s['rho']"
   ]
  },
  {
   "cell_type": "code",
   "execution_count": 16,
   "metadata": {},
   "outputs": [
    {
     "data": {
      "text/plain": [
       "SimArray([ -422.98128325, -3414.50579222,  -566.21106536, ...,\n",
       "            449.53873068,  -343.17034339,  -753.16753134], 'km kpc**-1 s**-1')"
      ]
     },
     "execution_count": 16,
     "metadata": {},
     "output_type": "execute_result"
    }
   ],
   "source": [
    "s.s['vel_div']"
   ]
  },
  {
   "cell_type": "code",
   "execution_count": 10,
   "metadata": {},
   "outputs": [],
   "source": [
    "s.physical_units()"
   ]
  },
  {
   "cell_type": "code",
   "execution_count": 20,
   "metadata": {},
   "outputs": [
    {
     "ename": "NameError",
     "evalue": "name 'smDensitySym' is not defined",
     "output_type": "error",
     "traceback": [
      "\u001b[0;31m---------------------------------------------------------------------------\u001b[0m",
      "\u001b[0;31mNameError\u001b[0m                                 Traceback (most recent call last)",
      "\u001b[1;32m/home/eva/star_formation/test.ipynb Zelle 11\u001b[0m in \u001b[0;36m<cell line: 1>\u001b[0;34m()\u001b[0m\n\u001b[0;32m----> <a href='vscode-notebook-cell://wsl%2Bubuntu-20.04/home/eva/star_formation/test.ipynb#X13sdnNjb2RlLXJlbW90ZQ%3D%3D?line=0'>1</a>\u001b[0m smDensitySym(s,Wendland)\n",
      "\u001b[0;31mNameError\u001b[0m: name 'smDensitySym' is not defined"
     ]
    }
   ],
   "source": [
    "smDensitySym(s,Wendland)"
   ]
  },
  {
   "cell_type": "code",
   "execution_count": 21,
   "metadata": {},
   "outputs": [
    {
     "ename": "AttributeError",
     "evalue": "'FamilySubSnap' object has no attribute 'Wendland'",
     "output_type": "error",
     "traceback": [
      "\u001b[0;31m---------------------------------------------------------------------------\u001b[0m",
      "\u001b[0;31mAttributeError\u001b[0m                            Traceback (most recent call last)",
      "\u001b[1;32m/home/eva/star_formation/test.ipynb Zelle 12\u001b[0m in \u001b[0;36m<cell line: 1>\u001b[0;34m()\u001b[0m\n\u001b[0;32m----> <a href='vscode-notebook-cell://wsl%2Bubuntu-20.04/home/eva/star_formation/test.ipynb#X14sdnNjb2RlLXJlbW90ZQ%3D%3D?line=0'>1</a>\u001b[0m s\u001b[39m.\u001b[39;49mg\u001b[39m.\u001b[39;49mWendland[\u001b[39m'\u001b[39m\u001b[39mrho\u001b[39m\u001b[39m'\u001b[39m]\n",
      "File \u001b[0;32m~/.local/lib/python3.8/site-packages/pynbody/snapshot/__init__.py:445\u001b[0m, in \u001b[0;36mSimSnap.__getattr__\u001b[0;34m(self, name)\u001b[0m\n\u001b[1;32m    442\u001b[0m \u001b[39mexcept\u001b[39;00m \u001b[39mValueError\u001b[39;00m:\n\u001b[1;32m    443\u001b[0m     \u001b[39mpass\u001b[39;00m\n\u001b[0;32m--> 445\u001b[0m \u001b[39mraise\u001b[39;00m \u001b[39mAttributeError\u001b[39;00m(\u001b[39m\"\u001b[39m\u001b[39m{!r}\u001b[39;00m\u001b[39m object has no attribute \u001b[39m\u001b[39m{!r}\u001b[39;00m\u001b[39m\"\u001b[39m\u001b[39m.\u001b[39mformat(\n\u001b[1;32m    446\u001b[0m     \u001b[39mtype\u001b[39m(\u001b[39mself\u001b[39m)\u001b[39m.\u001b[39m\u001b[39m__name__\u001b[39m, name))\n",
      "\u001b[0;31mAttributeError\u001b[0m: 'FamilySubSnap' object has no attribute 'Wendland'"
     ]
    }
   ],
   "source": [
    "s.g['rho']"
   ]
  },
  {
   "cell_type": "code",
   "execution_count": null,
   "metadata": {},
   "outputs": [],
   "source": []
  }
 ],
 "metadata": {
  "kernelspec": {
   "display_name": "Python 3 (ipykernel)",
   "language": "python",
   "name": "python3"
  },
  "language_info": {
   "codemirror_mode": {
    "name": "ipython",
    "version": 3
   },
   "file_extension": ".py",
   "mimetype": "text/x-python",
   "name": "python",
   "nbconvert_exporter": "python",
   "pygments_lexer": "ipython3",
   "version": "3.8.10"
  },
  "vscode": {
   "interpreter": {
    "hash": "31f2aee4e71d21fbe5cf8b01ff0e069b9275f58929596ceb00d14d90e3e16cd6"
   }
  }
 },
 "nbformat": 4,
 "nbformat_minor": 2
}
