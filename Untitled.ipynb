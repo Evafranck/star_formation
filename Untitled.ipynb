{
 "cells": [
  {
   "cell_type": "code",
   "execution_count": 1,
   "id": "65197810",
   "metadata": {},
   "outputs": [],
   "source": [
    "import pynbody"
   ]
  },
  {
   "cell_type": "code",
   "execution_count": 2,
   "id": "80fd5569",
   "metadata": {},
   "outputs": [],
   "source": [
    "s = pynbody.load('../Documents/Bachelorthesis/simulations/g8.26/g8.26e11.01024')\n"
   ]
  },
  {
   "cell_type": "code",
   "execution_count": 3,
   "id": "f2752e70",
   "metadata": {},
   "outputs": [
    {
     "data": {
      "text/plain": [
       "SimArray([5.13252696e-02, 2.19279477e-02, 2.72987342e-02, ...,\n",
       "          3.37428938e+07, 6.50233758e+07, 1.14933115e+07], '1.25e+02 Msol a**-3 kpc**-3')"
      ]
     },
     "execution_count": 3,
     "metadata": {},
     "output_type": "execute_result"
    }
   ],
   "source": [
    "s['rho']"
   ]
  },
  {
   "cell_type": "code",
   "execution_count": 4,
   "id": "b3e513f9",
   "metadata": {},
   "outputs": [],
   "source": [
    "pynbody.config['sph']['Kernel'] = 'WendlandC2'"
   ]
  },
  {
   "cell_type": "code",
   "execution_count": 5,
   "id": "620e6bd3",
   "metadata": {},
   "outputs": [
    {
     "data": {
      "text/plain": [
       "SimArray([5.13252696e-02, 2.19279477e-02, 2.72987342e-02, ...,\n",
       "          3.37428938e+07, 6.50233758e+07, 1.14933115e+07], '1.25e+02 Msol a**-3 kpc**-3')"
      ]
     },
     "execution_count": 5,
     "metadata": {},
     "output_type": "execute_result"
    }
   ],
   "source": [
    "s['rho']"
   ]
  },
  {
   "cell_type": "code",
   "execution_count": 6,
   "id": "fbd23123",
   "metadata": {},
   "outputs": [],
   "source": [
    "s = pynbody.load('../Documents/Bachelorthesis/simulations/g8.26/g8.26e11.01024')"
   ]
  },
  {
   "cell_type": "code",
   "execution_count": 7,
   "id": "420fae7a",
   "metadata": {},
   "outputs": [
    {
     "data": {
      "text/plain": [
       "'WendlandC2'"
      ]
     },
     "execution_count": 7,
     "metadata": {},
     "output_type": "execute_result"
    }
   ],
   "source": [
    "pynbody.config['sph']['Kernel']"
   ]
  },
  {
   "cell_type": "code",
   "execution_count": 8,
   "id": "cba26465",
   "metadata": {},
   "outputs": [
    {
     "data": {
      "text/plain": [
       "SimArray([4.90016310e-02, 2.04005284e-02, 2.68583943e-02, ...,\n",
       "          3.57204039e+07, 7.57404152e+07, 1.26414852e+07], '1.25e+02 Msol a**-3 kpc**-3')"
      ]
     },
     "execution_count": 8,
     "metadata": {},
     "output_type": "execute_result"
    }
   ],
   "source": [
    "s['rho']"
   ]
  },
  {
   "cell_type": "code",
   "execution_count": null,
   "id": "7ac1e0ee",
   "metadata": {},
   "outputs": [],
   "source": []
  }
 ],
 "metadata": {
  "kernelspec": {
   "display_name": "Python 3 (ipykernel)",
   "language": "python",
   "name": "python3"
  },
  "language_info": {
   "codemirror_mode": {
    "name": "ipython",
    "version": 3
   },
   "file_extension": ".py",
   "mimetype": "text/x-python",
   "name": "python",
   "nbconvert_exporter": "python",
   "pygments_lexer": "ipython3",
   "version": "3.8.10"
  }
 },
 "nbformat": 4,
 "nbformat_minor": 5
}
