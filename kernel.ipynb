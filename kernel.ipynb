{
 "cells": [
  {
   "cell_type": "code",
   "execution_count": null,
   "metadata": {},
   "outputs": [],
   "source": [
    "template<typename T>\n",
    "void smDensitySym(SMX smx,int pi,int nSmooth,int *pList,float *fList)\n",
    "{\n",
    "\tT fNorm,ih2,r2,rs,ih;\n",
    "\tint i,pj;\n",
    "\tKD kd = smx->kd;\n",
    "\n",
    "\tih = 1.0/GETSMOOTH(T,pi); #h1\n",
    "\tih2 = ih*ih;\n",
    "  \tfNorm = 0.5*M_1_PI*ih*ih2; #fac*0.5\n",
    "\n",
    "\tfor (i=0;i<nSmooth;++i) {\n",
    "    \tpj = pList[i];\n",
    "\t\tr2 = fList[i]*ih2; #q**2, flist = r_ij**2\n",
    "                rs = 2.0 - sqrt(r2); #tmp2\n",
    "\t\tif (r2 < 1.0) rs = (1.0 - 0.75*rs*r2); \n",
    "\t\telse rs = 0.25*rs*rs*rs; #val\n",
    "\t\tif(rs<0 && !smx->warnings) {\n",
    "\t\t  fprintf(stderr, \"Internal consistency error\\n\");\n",
    "\t\t  smx->warnings=true;\n",
    "\t\t}\n",
    "\t\trs *= fNorm; #val*fac\n",
    "\t\tACCUM<T>(kd->pNumpyDen,kd->p[pi].iOrder,rs*GET<T>(kd->pNumpyMass,kd->p[pj].iOrder));\n",
    "\t\tACCUM<T>(kd->pNumpyDen,kd->p[pj].iOrder,rs*GET<T>(kd->pNumpyMass,kd->p[pi].iOrder));\n",
    "  }\n",
    "\n",
    "}"
   ]
  },
  {
   "cell_type": "code",
   "execution_count": null,
   "metadata": {},
   "outputs": [],
   "source": [
    "template<typename T>\n",
    "void smDensitySym(SMX smx,int pi,int nSmooth,int *pList,float *fList)\n",
    "{\n",
    "\tT fNorm,ih2,r2,rs,ih;\n",
    "\tint i,pj;\n",
    "\tKD kd = smx->kd;\n",
    "\n",
    "\tih = 1.0/GETSMOOTH(T,pi); #h1\n",
    "\tih2 = ih*ih;\n",
    "  \tfNorm = M_1_PI * 21.0 / 16.0;\n",
    "\n",
    "\tfor (i=0;i<nSmooth;++i) {\n",
    "    \tpj = pList[i];\n",
    "\t\tr2 = fList[i]*ih2; #q**2, flist = r_ij**2\n",
    "        q = sqrt(r2)\n",
    "                rs = 1.0 - 0.5 * q; #tmp2\n",
    "                val = 0.0\n",
    "\t\tif (r2 < 2.0) val = rs*rs*rs*rs*(2.0*q+1.0); #val\n",
    "\t\tif(rs<0 && !smx->warnings) {\n",
    "\t\t  fprintf(stderr, \"Internal consistency error\\n\");\n",
    "\t\t  smx->warnings=true;\n",
    "\t\t}\n",
    "\t\tval *= fNorm; #val*fac\n",
    "\t\tACCUM<T>(kd->pNumpyDen,kd->p[pi].iOrder,rs*GET<T>(kd->pNumpyMass,kd->p[pj].iOrder));\n",
    "\t\tACCUM<T>(kd->pNumpyDen,kd->p[pj].iOrder,rs*GET<T>(kd->pNumpyMass,kd->p[pi].iOrder));\n",
    "  }\n",
    "\n",
    "}"
   ]
  }
 ],
 "metadata": {
  "kernelspec": {
   "display_name": "Python 3.9.13 64-bit",
   "language": "python",
   "name": "python3"
  },
  "language_info": {
   "name": "python",
   "version": "3.9.13"
  },
  "orig_nbformat": 4,
  "vscode": {
   "interpreter": {
    "hash": "f9f85f796d01129d0dd105a088854619f454435301f6ffec2fea96ecbd9be4ac"
   }
  }
 },
 "nbformat": 4,
 "nbformat_minor": 2
}
